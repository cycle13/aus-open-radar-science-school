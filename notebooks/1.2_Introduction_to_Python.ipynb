{
 "cells": [
  {
   "cell_type": "markdown",
   "metadata": {},
   "source": [
    "# 1.2 Introduction to Python\n",
    "\n",
    "What are the benefits of using Python?\n",
    "\n",
    " * General-purpose.\n",
    " * Interpreted.\n",
    " * Focuses on readability.\n",
    " * Comprehesive standard library.\n",
    " * Extended with a large number of third-party packages.\n",
    " * Widely used in scientific programming.\n",
    "\n",
    "This presentation will give a brief into to some key features of Python to help those not familar\n",
    "with the language with the remainder of the class. This is in no way a comprehensive introduction\n",
    "to either topic, for the sake of time. Excellent tutorials on Python can be found online. If nothing else, Stack Overflow will probably have the answer to any questions you may have regarding Python.\n",
    "\n",
    "In the next notebook, we will discuss some numerical and scientific Python packages."
   ]
  },
  {
   "cell_type": "markdown",
   "metadata": {},
   "source": [
    "## Variables and Types"
   ]
  },
  {
   "cell_type": "markdown",
   "metadata": {},
   "source": [
    "In Python you can define a variable and assign it a value. For example:"
   ]
  },
  {
   "cell_type": "code",
   "execution_count": null,
   "metadata": {},
   "outputs": [],
   "source": [
    "foo = 1"
   ]
  },
  {
   "cell_type": "markdown",
   "metadata": {},
   "source": [
    "foo is the integer 1, so we can add, subtract etc to foo."
   ]
  },
  {
   "cell_type": "code",
   "execution_count": null,
   "metadata": {},
   "outputs": [],
   "source": [
    "foo + 1"
   ]
  },
  {
   "cell_type": "markdown",
   "metadata": {},
   "source": [
    "We need to reassign or reuse the variable to keep the add integer"
   ]
  },
  {
   "cell_type": "code",
   "execution_count": null,
   "metadata": {},
   "outputs": [],
   "source": [
    "foo2 = foo + 1\n",
    "print(foo2)\n",
    "foo = foo + 1\n",
    "print(foo)"
   ]
  },
  {
   "cell_type": "markdown",
   "metadata": {},
   "source": [
    "There are a quite a few different data types in Python, but to name a couple for the sake of time:\n",
    " * Strings\n",
    " * Floats\n",
    " * Integers\n",
    " * Lists\n",
    " * and more.."
   ]
  },
  {
   "cell_type": "markdown",
   "metadata": {},
   "source": [
    "To check a data type we can simply place type in front of that variable:"
   ]
  },
  {
   "cell_type": "code",
   "execution_count": null,
   "metadata": {},
   "outputs": [],
   "source": [
    "bar = 3.5\n",
    "type(bar)"
   ]
  },
  {
   "cell_type": "markdown",
   "metadata": {},
   "source": [
    "Python even allows us to combine string variables:"
   ]
  },
  {
   "cell_type": "code",
   "execution_count": null,
   "metadata": {},
   "outputs": [],
   "source": [
    "obiwan = \"That's no moon... \"\n",
    "kenobi = \"It's a space station!\"\n",
    "obiwan_kenobi = obiwan + kenobi\n",
    "print(obiwan_kenobi)"
   ]
  },
  {
   "cell_type": "markdown",
   "metadata": {},
   "source": [
    "## Containers"
   ]
  },
  {
   "cell_type": "markdown",
   "metadata": {},
   "source": [
    "In Python there are also containers. Tuples, lists and dictionaries.\n",
    "A list is exactly how it sounds, and list allow us to search via indexing. \n",
    "To create at list:"
   ]
  },
  {
   "cell_type": "code",
   "execution_count": null,
   "metadata": {},
   "outputs": [],
   "source": [
    "my_list = ['hello', 42, 100000.1, 'I Love Python!!']"
   ]
  },
  {
   "cell_type": "markdown",
   "metadata": {},
   "source": [
    "and yes lists can contain different types of variables, floats, strings you name it!"
   ]
  },
  {
   "cell_type": "markdown",
   "metadata": {},
   "source": [
    "To index:"
   ]
  },
  {
   "cell_type": "code",
   "execution_count": null,
   "metadata": {},
   "outputs": [],
   "source": [
    "print(my_list[-1])"
   ]
  },
  {
   "cell_type": "markdown",
   "metadata": {},
   "source": [
    "A tuple is a sequence of immutable Python objects. Being sequences, tuples are like lists,\n",
    "but the difference between the two is that the tuples cannot be changed unlike lists. These are useful for providing coordinates."
   ]
  },
  {
   "cell_type": "code",
   "execution_count": null,
   "metadata": {},
   "outputs": [],
   "source": [
    "tup = (1, 2, 3)\n",
    "print(tup)"
   ]
  },
  {
   "cell_type": "code",
   "execution_count": null,
   "metadata": {},
   "outputs": [],
   "source": [
    "tup[1] = 6"
   ]
  },
  {
   "cell_type": "markdown",
   "metadata": {},
   "source": [
    "With dictionaries, we essential can store information and have keys that we can access. You will see this a lot in\n",
    "Py-ART. The fields are stored this way."
   ]
  },
  {
   "cell_type": "code",
   "execution_count": null,
   "metadata": {},
   "outputs": [],
   "source": [
    "arctic = {'animals': 'polar bear, walrus and more',\n",
    "          'size': 13985000,\n",
    "          'size_units': 'km2',\n",
    "          'climate': 'Really cold... but the northern lights are awesome!'}"
   ]
  },
  {
   "cell_type": "code",
   "execution_count": null,
   "metadata": {},
   "outputs": [],
   "source": [
    "arctic['animals']"
   ]
  },
  {
   "cell_type": "code",
   "execution_count": null,
   "metadata": {},
   "outputs": [],
   "source": [
    "print(list(arctic.keys()))"
   ]
  },
  {
   "cell_type": "markdown",
   "metadata": {},
   "source": [
    "## Flow Control Statements"
   ]
  },
  {
   "cell_type": "markdown",
   "metadata": {},
   "source": [
    "There are flow control statements in Python. With these we can check different conditions and which of them are met."
   ]
  },
  {
   "cell_type": "code",
   "execution_count": null,
   "metadata": {},
   "outputs": [],
   "source": [
    "a = 10\n",
    "if a > 10:\n",
    "    print(\"a is larger than 10\")\n",
    "elif a < 10:\n",
    "    print(\"a is less than 10\")\n",
    "else:\n",
    "    print(\"a is equal to 10\")"
   ]
  },
  {
   "cell_type": "markdown",
   "metadata": {},
   "source": [
    "We can also create loops to do an action to multiple items. Let's take a list for example. "
   ]
  },
  {
   "cell_type": "code",
   "execution_count": null,
   "metadata": {},
   "outputs": [],
   "source": [
    "releases = ['Dali', 'Bob Ross', 'Michelangelo']\n",
    "for release in releases:\n",
    "    print(release + ' is going to be a Py-ART release!')"
   ]
  },
  {
   "cell_type": "code",
   "execution_count": null,
   "metadata": {},
   "outputs": [],
   "source": [
    "for i in range(10):\n",
    "    print(i)"
   ]
  },
  {
   "cell_type": "markdown",
   "metadata": {},
   "source": [
    "## Functions"
   ]
  },
  {
   "cell_type": "markdown",
   "metadata": {},
   "source": [
    "Functions are a block of reusable code that can perform an action and can even return variables.\n",
    "You can also input variables into a function."
   ]
  },
  {
   "cell_type": "code",
   "execution_count": null,
   "metadata": {},
   "outputs": [],
   "source": [
    "def func():\n",
    "    print(\"Hello world\")\n",
    "\n",
    "func()"
   ]
  },
  {
   "cell_type": "code",
   "execution_count": null,
   "metadata": {},
   "outputs": [],
   "source": [
    "def name_func(name):\n",
    "    print(\"Hello\", name)\n",
    "\n",
    "name_func(\"Chuck Norris\")"
   ]
  },
  {
   "cell_type": "code",
   "execution_count": null,
   "metadata": {
    "scrolled": true
   },
   "outputs": [],
   "source": [
    "def addition_func(x):\n",
    "    return x + 42\n",
    "\n",
    "new_num = addition_func(2)\n",
    "print(new_num)"
   ]
  },
  {
   "cell_type": "markdown",
   "metadata": {},
   "source": [
    "## Importing"
   ]
  },
  {
   "cell_type": "markdown",
   "metadata": {},
   "source": [
    "In Python we can import packages to be used. We will go into more detail on two popular Python packages\n",
    "in the next session. To import a package:"
   ]
  },
  {
   "cell_type": "code",
   "execution_count": null,
   "metadata": {},
   "outputs": [],
   "source": [
    "import turtle"
   ]
  },
  {
   "cell_type": "code",
   "execution_count": null,
   "metadata": {},
   "outputs": [],
   "source": [
    "turtle"
   ]
  },
  {
   "cell_type": "markdown",
   "metadata": {},
   "source": [
    "We can also import a package and assign it a different name."
   ]
  },
  {
   "cell_type": "code",
   "execution_count": null,
   "metadata": {},
   "outputs": [],
   "source": [
    "import numpy as np"
   ]
  },
  {
   "cell_type": "markdown",
   "metadata": {},
   "source": [
    "We can also import from within a package."
   ]
  },
  {
   "cell_type": "code",
   "execution_count": null,
   "metadata": {},
   "outputs": [],
   "source": [
    "from numpy import array"
   ]
  },
  {
   "cell_type": "markdown",
   "metadata": {},
   "source": [
    "# Classes"
   ]
  },
  {
   "cell_type": "markdown",
   "metadata": {},
   "source": [
    "Classes are objects that have embedded attributes and functions. Everything in Python is a class. This means that, unlike in programming languages such as MATLAB where variables cannot have their own embedded methods, every variable in Python has embedded methods and attributes. For example, even a simple integer has its own methods. For example, let's define a simple integer."
   ]
  },
  {
   "cell_type": "code",
   "execution_count": null,
   "metadata": {},
   "outputs": [],
   "source": [
    "x = int(3)"
   ]
  },
  {
   "cell_type": "markdown",
   "metadata": {},
   "source": [
    "To list the methods that are available in an object, use the dir command."
   ]
  },
  {
   "cell_type": "code",
   "execution_count": null,
   "metadata": {},
   "outputs": [],
   "source": [
    "dir(x)"
   ]
  },
  {
   "cell_type": "markdown",
   "metadata": {},
   "source": [
    "As you can see, most of these methods have underscores around them. These methods are considered in the object oriented programming world to be private methods. In essence, objects can have private and public methods and attributes. Private methods are not intended to be accessed by the user and are only used internally by the library defining the object. Meanwhile, public methods are intended for use by the end user. In Python, there is no syntax that is builtin to make a method private, so they are typically denoted by surrounding the names with underscores. Public methods do not have underscores around them.\n",
    "\n",
    "Let's call a public method of x!"
   ]
  },
  {
   "cell_type": "code",
   "execution_count": null,
   "metadata": {},
   "outputs": [],
   "source": [
    "x.bit_length()"
   ]
  },
  {
   "cell_type": "markdown",
   "metadata": {},
   "source": [
    "You can even define your own classes. Use the class command. All of the procedures in the class take \"self\" as the first argument. \"self\" is the class that you are programming, so if you want to look at the attributes of the class, simply refer to \"self.\"\n",
    "\n",
    "Let's start a band!"
   ]
  },
  {
   "cell_type": "code",
   "execution_count": null,
   "metadata": {},
   "outputs": [],
   "source": [
    "class band:\n",
    "    \n",
    "    def __init__(self, genre, name):\n",
    "        self.members = {}\n",
    "        self.name = name\n",
    "        self.gigs = {}\n",
    "        self.albums = {}\n",
    "        self.genre = genre\n",
    "        \n",
    "    def add_member(self, member_name, instrument):\n",
    "        self.members[member_name] = instrument\n",
    "        \n",
    "    def get_a_gig(self, city, date):\n",
    "        self.gigs[city] = date\n",
    "        \n",
    "    def cancel_a_gig(self, city):\n",
    "        del self.gigs[city]\n",
    "    \n",
    "    def fire(self, member_name, reason):\n",
    "        del self.members[member_name]\n",
    "        print(member_name + \" was fired for \" + reason)\n",
    "        \n",
    "    def make_a_new_album(self, album_name, song_list):\n",
    "        self.albums[album_name] = song_list\n",
    "        \n",
    "    def print_roster(self):\n",
    "        print(self.name + '\\'s ' + 'current roster:')\n",
    "        for member in self.members.keys():\n",
    "            print(member + ' plays ' + self.members[member])\n",
    "            \n",
    "    def print_schedule(self):\n",
    "        print(self.name + '\\'s ' + 'current schedule:')\n",
    "        for city in self.gigs.keys():\n",
    "            print(city + ' ' + self.gigs[city])\n",
    "            \n",
    "    def print_albums(self):\n",
    "        print(self.name + '\\'s ' + 'current discography:')\n",
    "        for album in self.albums.keys():\n",
    "            print(self.name + ' has an album out called ' + album)\n",
    "            i = 0\n",
    "            for song_titles in self.albums[album]:\n",
    "                i += 1\n",
    "                print(str(i) + '. ' + song_titles)"
   ]
  },
  {
   "cell_type": "code",
   "execution_count": null,
   "metadata": {},
   "outputs": [],
   "source": [
    "radar_warriors = band('metal', 'Radar Warriors')\n",
    "radar_warriors.add_member('Bobby Jackson', 'lead vocals')\n",
    "radar_warriors.add_member('Scott Collis', 'guitar')\n",
    "radar_warriors.add_member('Valentin Louf', 'bass')\n",
    "radar_warriors.add_member('Joshua Soderholm', 'drums')"
   ]
  },
  {
   "cell_type": "code",
   "execution_count": null,
   "metadata": {},
   "outputs": [],
   "source": [
    "radar_warriors.print_roster()"
   ]
  },
  {
   "cell_type": "code",
   "execution_count": null,
   "metadata": {},
   "outputs": [],
   "source": [
    "radar_warriors.make_a_new_album('Storm of vengeance', ['KDP columns of doom', 'Hector\\'s revenge', 'Shouting at the radar',\n",
    "                                                       'Hail to the king of open source', 'Python wrangler', \n",
    "                                                       'The sector scanner'])"
   ]
  },
  {
   "cell_type": "code",
   "execution_count": null,
   "metadata": {},
   "outputs": [],
   "source": [
    "radar_warriors.print_albums()"
   ]
  },
  {
   "cell_type": "code",
   "execution_count": null,
   "metadata": {},
   "outputs": [],
   "source": [
    "radar_warriors.fire(\"Bobby Jackson\", \"breaking the radar\")"
   ]
  },
  {
   "cell_type": "code",
   "execution_count": null,
   "metadata": {},
   "outputs": [],
   "source": [
    "radar_warriors.print_roster()"
   ]
  },
  {
   "cell_type": "code",
   "execution_count": null,
   "metadata": {},
   "outputs": [],
   "source": [
    "radar_warriors.get_a_gig('Monash University', '13 November 2018')\n",
    "radar_warriors.get_a_gig('Washington, DC', '10 December 2018')\n",
    "radar_warriors.get_a_gig('Phoenix, AZ', '6 January 2019')\n",
    "radar_warriors.print_schedule()"
   ]
  },
  {
   "cell_type": "markdown",
   "metadata": {},
   "source": [
    "# Exercise\n",
    "\n",
    "Make your dream concert using the band subclass. There are many ways you can make such a concert structure in Python...dictionaries...classses...lists... Have a stab at it."
   ]
  },
  {
   "cell_type": "code",
   "execution_count": null,
   "metadata": {},
   "outputs": [],
   "source": []
  },
  {
   "cell_type": "code",
   "execution_count": null,
   "metadata": {},
   "outputs": [],
   "source": [
    "%load section2_answer.py"
   ]
  }
 ],
 "metadata": {
  "kernelspec": {
   "display_name": "Python 3",
   "language": "python",
   "name": "python3"
  },
  "language_info": {
   "codemirror_mode": {
    "name": "ipython",
    "version": 3
   },
   "file_extension": ".py",
   "mimetype": "text/x-python",
   "name": "python",
   "nbconvert_exporter": "python",
   "pygments_lexer": "ipython3",
   "version": "3.6.4"
  }
 },
 "nbformat": 4,
 "nbformat_minor": 2
}
