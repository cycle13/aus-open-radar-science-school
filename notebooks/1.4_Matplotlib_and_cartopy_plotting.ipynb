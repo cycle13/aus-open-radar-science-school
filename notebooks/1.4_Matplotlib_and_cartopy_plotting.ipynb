{
 "cells": [
  {
   "cell_type": "markdown",
   "metadata": {},
   "source": [
    "# 1.4 Introduction to Matplotlib and cartopy"
   ]
  },
  {
   "cell_type": "markdown",
   "metadata": {},
   "source": [
    "Matplotlib is a Python plotting library that can create a variety of different plots, such as pcolormesh and contour plots. Py-ART uses Matplotlib to do its plotting. The syntax of Matplotlib is largely based off of MATLAB, so if you have used MATLAB before using Matplotlib is going to be a breeze."
   ]
  },
  {
   "cell_type": "markdown",
   "metadata": {},
   "source": [
    "First let's import Matplotlib's pyplot and numpy for use of creating test data."
   ]
  },
  {
   "cell_type": "code",
   "execution_count": null,
   "metadata": {},
   "outputs": [],
   "source": [
    "import matplotlib.pyplot as plt\n",
    "import numpy as np\n",
    "%matplotlib inline"
   ]
  },
  {
   "cell_type": "markdown",
   "metadata": {},
   "source": [
    "First let's create a simple line plot."
   ]
  },
  {
   "cell_type": "code",
   "execution_count": null,
   "metadata": {},
   "outputs": [],
   "source": [
    "x = np.array([0, 1, 2, 3, 4])\n",
    "y = np.array([3, 5, 9, 1, 3])"
   ]
  },
  {
   "cell_type": "code",
   "execution_count": null,
   "metadata": {},
   "outputs": [],
   "source": [
    "plt.plot(x, y)\n",
    "plt.xlabel('Number of Pirates')\n",
    "plt.ylabel('Number of Ninjas')\n",
    "plt.show()"
   ]
  },
  {
   "cell_type": "markdown",
   "metadata": {},
   "source": [
    "How about a pcolor plot?"
   ]
  },
  {
   "cell_type": "code",
   "execution_count": null,
   "metadata": {},
   "outputs": [],
   "source": [
    "z = np.random.rand(15, 15)\n",
    "plt.pcolor(z)\n",
    "plt.xlabel('Axis of Chaos')\n",
    "plt.ylabel('Axis of Mystery')\n",
    "plt.title('Random noise')"
   ]
  },
  {
   "cell_type": "markdown",
   "metadata": {},
   "source": [
    "Now the great thing about matplotlib is that there are a variety of customization tools.\n",
    "One such tool is the 'figure'. With this we can change the size of the plot, plus more.\n",
    "plt has quite a few tools. We can save the figure, add a title, change the x and y limits\n",
    "and more."
   ]
  },
  {
   "cell_type": "code",
   "execution_count": null,
   "metadata": {},
   "outputs": [],
   "source": [
    "fig = plt.figure(figsize=[5, 5])\n",
    "plt.pcolor(z)\n",
    "plt.xlim(2, 12)\n",
    "plt.ylim(0, 10)\n",
    "plt.title('My Awesome Plot!')\n",
    "plt.show()\n",
    "# plt.savefig('/home/me')"
   ]
  },
  {
   "cell_type": "markdown",
   "metadata": {},
   "source": [
    "With axes, we can plot several figures in the same window by adding subplots."
   ]
  },
  {
   "cell_type": "code",
   "execution_count": null,
   "metadata": {},
   "outputs": [],
   "source": [
    "fig = plt.figure(figsize=[10, 8])\n",
    "z = np.random.rand(10, 10)\n",
    "x1 = np.random.rand(10)\n",
    "x2 = np.random.rand(10)\n",
    "y1 = np.random.rand(10)\n",
    "y2 = np.random.rand(10)\n",
    "\n",
    "ax1 = fig.add_subplot(311)\n",
    "ax1.plot(x1, y1)\n",
    "\n",
    "ax2 = fig.add_subplot(312)\n",
    "ax2.plot(x2,y2)\n",
    "\n",
    "ax3 = fig.add_subplot(313)\n",
    "ax3.pcolor(x1, y1, z)\n",
    "\n",
    "plt.show()"
   ]
  },
  {
   "cell_type": "markdown",
   "metadata": {
    "collapsed": true
   },
   "source": [
    "## Exercise\n",
    "\n",
    "Plot the curve Y = 2X + 1 over the range of X = (-100, 100)"
   ]
  },
  {
   "cell_type": "code",
   "execution_count": null,
   "metadata": {},
   "outputs": [],
   "source": [
    "%load section4_answer.py"
   ]
  },
  {
   "cell_type": "markdown",
   "metadata": {},
   "source": [
    "## Introduction to Cartopy\n",
    "\n",
    "Cartopy is used to make plots on geographical maps. For example, radar images in Py-ART are plotted on a map using cartopy.\n",
    "Cartopy is designed so that it interacts seamlessly with matplotlib. Basically, all you have to do is when you initialize the axis you have to set the projection that you wish to use. \n",
    "\n",
    "For the list of available projections, click [here](https://scitools.org.uk/cartopy/docs/v0.15/crs/projections.html)\n",
    "Let's load the database of projections from cartopy."
   ]
  },
  {
   "cell_type": "code",
   "execution_count": null,
   "metadata": {},
   "outputs": [],
   "source": [
    "import cartopy.crs as ccrs"
   ]
  },
  {
   "cell_type": "markdown",
   "metadata": {},
   "source": [
    "\n",
    "We will go ahead and plot the locations of Melbourne and Sydney on a map. To do this, we simply set up a GeoAxes with the PlateCarree projection. Once we do that, we can simply use matplotlib commands on the axis."
   ]
  },
  {
   "cell_type": "code",
   "execution_count": null,
   "metadata": {},
   "outputs": [],
   "source": [
    "Melbourne_coords = (144.9631, -37.8136)\n",
    "Sydney_coords = (151.2093, -33.8688)\n",
    "fig = plt.figure(figsize=(8,8))\n",
    "ax = plt.axes(projection=ccrs.PlateCarree())\n",
    "ax.text(Melbourne_coords[0], Melbourne_coords[1],'Melbourne')\n",
    "ax.text(Sydney_coords[0], Sydney_coords[1],'Sydney')\n",
    "ax.set_xlim([110, 160])\n",
    "ax.set_ylim([-40, -10])"
   ]
  },
  {
   "cell_type": "markdown",
   "metadata": {},
   "source": [
    "Now, a plot with no features on it is not much use to us. Thankfully cartopy lets us add features:\n",
    "\n",
    "ax.coastlines() - Adds coastlines\n",
    "\n",
    "ax.stock_img() - Adds a stock photograph of the world"
   ]
  },
  {
   "cell_type": "code",
   "execution_count": null,
   "metadata": {},
   "outputs": [],
   "source": [
    "fig = plt.figure(figsize=(8,8))\n",
    "ax = plt.axes(projection=ccrs.PlateCarree())\n",
    "ax.text(Melbourne_coords[0], Melbourne_coords[1],'Melbourne')\n",
    "ax.text(Sydney_coords[0], Sydney_coords[1],'Sydney')\n",
    "ax.set_xlim([110, 160])\n",
    "ax.set_ylim([-40, -10])\n",
    "ax.coastlines(resolution='10m')\n",
    "ax.stock_img()"
   ]
  },
  {
   "cell_type": "markdown",
   "metadata": {},
   "source": [
    "There are even more features that can be added to the map. They are contained within the cartopy.feature module."
   ]
  },
  {
   "cell_type": "code",
   "execution_count": null,
   "metadata": {},
   "outputs": [],
   "source": [
    "import cartopy.feature as cfeature"
   ]
  },
  {
   "cell_type": "code",
   "execution_count": null,
   "metadata": {},
   "outputs": [],
   "source": [
    "fig = plt.figure(figsize=(8,8))\n",
    "ax = plt.axes(projection=ccrs.PlateCarree())\n",
    "ax.text(Melbourne_coords[0], Melbourne_coords[1],'Melbourne')\n",
    "ax.text(Sydney_coords[0], Sydney_coords[1],'Sydney')\n",
    "ax.set_xlim([110, 160])\n",
    "ax.set_ylim([-40, -10])\n",
    "ax.coastlines(resolution='10m')\n",
    "ax.stock_img()\n",
    "ax.add_feature(cfeature.RIVERS)"
   ]
  },
  {
   "cell_type": "markdown",
   "metadata": {},
   "source": [
    "Commands such as contour and pcolormesh are also possible, making it easy to plot data on the map. We will make an example SST plot by using matplotlib's pcolormesh."
   ]
  },
  {
   "cell_type": "code",
   "execution_count": null,
   "metadata": {},
   "outputs": [],
   "source": [
    "from cartopy import config\n",
    "import os\n",
    "from netCDF4 import Dataset as netcdf_dataset"
   ]
  },
  {
   "cell_type": "code",
   "execution_count": null,
   "metadata": {},
   "outputs": [],
   "source": [
    "fname = os.path.join(config[\"repo_data_dir\"],\n",
    "                     'netcdf', 'HadISST1_SST_update.nc'\n",
    "                     )\n",
    "\n",
    "dataset = netcdf_dataset(fname)\n",
    "sst = dataset.variables['sst'][0, :, :]\n",
    "lats = dataset.variables['lat'][:]\n",
    "lons = dataset.variables['lon'][:]\n",
    "\n",
    "fig = plt.figure(figsize=(8,8))\n",
    "ax = plt.axes(projection=ccrs.PlateCarree())\n",
    "ax.text(Melbourne_coords[0], Melbourne_coords[1],'Melbourne')\n",
    "ax.text(Sydney_coords[0], Sydney_coords[1],'Sydney')\n",
    "mesh = ax.pcolormesh(lons, lats, sst, transform=ccrs.PlateCarree(), vmin=0, vmax=20)\n",
    "bar = plt.colorbar(mesh, ax=ax)\n",
    "bar.set_label('SST [$\\degree$C]')\n",
    "ax.set_xlim([110, 160])\n",
    "ax.set_ylim([-40, -10])\n",
    "ax.coastlines(resolution='10m')\n",
    "ax.add_feature(cfeature.RIVERS)\n",
    "ax.stock_img()"
   ]
  },
  {
   "cell_type": "markdown",
   "metadata": {},
   "source": [
    "# Exercise\n",
    "Make a map that plots a line between Melbourne and Sydney."
   ]
  },
  {
   "cell_type": "code",
   "execution_count": null,
   "metadata": {},
   "outputs": [],
   "source": []
  },
  {
   "cell_type": "code",
   "execution_count": null,
   "metadata": {},
   "outputs": [],
   "source": [
    "# %load section42_answer.py\n"
   ]
  },
  {
   "cell_type": "code",
   "execution_count": null,
   "metadata": {},
   "outputs": [],
   "source": []
  }
 ],
 "metadata": {
  "kernelspec": {
   "display_name": "Python 3",
   "language": "python",
   "name": "python3"
  },
  "language_info": {
   "codemirror_mode": {
    "name": "ipython",
    "version": 3
   },
   "file_extension": ".py",
   "mimetype": "text/x-python",
   "name": "python",
   "nbconvert_exporter": "python",
   "pygments_lexer": "ipython3",
   "version": "3.6.4"
  }
 },
 "nbformat": 4,
 "nbformat_minor": 2
}
