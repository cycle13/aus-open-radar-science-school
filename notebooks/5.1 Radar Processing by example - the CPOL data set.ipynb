{
 "cells": [
  {
   "cell_type": "markdown",
   "metadata": {},
   "source": [
    "# Processing dual-pol data\n",
    "\n",
    "Here, we'll try to process some dual-polarisation data. We want to:\n",
    "- Remove the noise,\n",
    "- Correct from attenuation\n",
    "- Unfold velocity"
   ]
  },
  {
   "cell_type": "code",
   "execution_count": null,
   "metadata": {},
   "outputs": [],
   "source": [
    "import imp\n",
    "import warnings\n",
    "\n",
    "import pyart\n",
    "import numpy as np\n",
    "import matplotlib.pyplot as plt\n",
    "\n",
    "warnings.simplefilter('ignore')"
   ]
  },
  {
   "cell_type": "code",
   "execution_count": null,
   "metadata": {},
   "outputs": [],
   "source": [
    "# Loading 2 functions that were too big to be put in that notebook ;-)\n",
    "cpol_helper = imp.load_source('cpol_helper', './cpol_helper.py')"
   ]
  },
  {
   "cell_type": "code",
   "execution_count": null,
   "metadata": {},
   "outputs": [],
   "source": [
    "file = 'cpol_20060225_122000_cp.nc'\n",
    "radar = pyart.io.read(file)"
   ]
  },
  {
   "cell_type": "code",
   "execution_count": null,
   "metadata": {},
   "outputs": [],
   "source": [
    "# Radar data is in radar.fields\n",
    "for field in sorted(radar.fields.keys()):\n",
    "    print(f\"{field} has units {radar.fields[field]['units']}\")"
   ]
  },
  {
   "cell_type": "markdown",
   "metadata": {},
   "source": [
    "Python tip: You can format a string with the value of a variable, e.g.:\n",
    "```python\n",
    "a = 2\n",
    "print(f\"The value of a is {a}\")\n",
    ">>>> \"The value of a is 2\"\n",
    "```"
   ]
  },
  {
   "cell_type": "code",
   "execution_count": null,
   "metadata": {},
   "outputs": [],
   "source": [
    "display = pyart.graph.RadarDisplay(radar)"
   ]
  },
  {
   "cell_type": "code",
   "execution_count": null,
   "metadata": {
    "scrolled": false
   },
   "outputs": [],
   "source": [
    "fig, ax = plt.subplots(3, 2, figsize=(12, 15))\n",
    "ax = ax.ravel()  # Ravel, like flatten, turns a multidimensional array into 1D array\n",
    "\n",
    "display.plot_ppi('reflectivity', ax=ax[0], sweep=0, cmap='pyart_NWSRef')\n",
    "display.plot_ppi('differential_reflectivity', ax=ax[1], sweep=0)\n",
    "display.plot_ppi('velocity', ax=ax[2], sweep=0, cmap='pyart_NWSVel', vmin=-13.3, vmax=13.3)\n",
    "display.plot_ppi('spectrum_width', ax=ax[3], sweep=0)\n",
    "display.plot_ppi('differential_phase', ax=ax[4], sweep=0)\n",
    "display.plot_ppi('cross_correlation_ratio', ax=ax[5], sweep=0, vmin=0.5, vmax=1.05)\n",
    "\n",
    "for myax in ax:\n",
    "    display.plot_range_rings([50, 100, 150], ax=myax)\n",
    "    myax.set_aspect(1)  # I like my axes square.\n",
    "    myax.set_xlim(-150, 150)\n",
    "    myax.set_ylim(-150, 150)\n",
    "    \n",
    "fig.tight_layout()\n",
    "plt.show()"
   ]
  },
  {
   "cell_type": "markdown",
   "metadata": {},
   "source": [
    "So the raw data contains plenty of noise, folding on $\\phi_{dp}$ and the Doppler velocity, and strong attenuation too. Let's try to remove the noise.\n",
    "\n",
    "# Noise removal"
   ]
  },
  {
   "cell_type": "code",
   "execution_count": null,
   "metadata": {},
   "outputs": [],
   "source": [
    "# Let's initialize a gatefilter.\n",
    "gf = pyart.filters.GateFilter(radar)\n",
    "gf.exclude_outside('differential_reflectivity', -3.0, 7.0)\n",
    "gf.exclude_outside('reflectivity', -20.0, 80.0)"
   ]
  },
  {
   "cell_type": "markdown",
   "metadata": {},
   "source": [
    "We have a signal to noise ratio, we want to determine the cutoff value between signal and noise "
   ]
  },
  {
   "cell_type": "code",
   "execution_count": null,
   "metadata": {},
   "outputs": [],
   "source": [
    "display.plot_ppi('signal_to_noise_ratio')\n",
    "plt.axes().set_aspect(1)\n",
    "plt.show()"
   ]
  },
  {
   "cell_type": "code",
   "execution_count": null,
   "metadata": {},
   "outputs": [],
   "source": [
    "# Plot the PDF of the SNR and try to find the cutoff value.\n",
    "plt.hist(radar.fields['signal_to_noise_ratio']['data'].flatten(), range=[0, 20], bins=20)\n",
    "plt.xlabel('Signal to noise ratio (dB)')\n",
    "plt.ylabel('PDF')\n",
    "plt.show()"
   ]
  },
  {
   "cell_type": "code",
   "execution_count": null,
   "metadata": {},
   "outputs": [],
   "source": [
    "gf.exclude_below('signal_to_noise_ratio', 8)  # 8 is our cutoff value."
   ]
  },
  {
   "cell_type": "code",
   "execution_count": null,
   "metadata": {},
   "outputs": [],
   "source": [
    "display.plot_ppi('reflectivity', cmap='pyart_NWSRef', gatefilter=gf)\n",
    "display.plot_range_rings([50, 100, 150])\n",
    "plt.axes().set_aspect(1)\n",
    "plt.show()"
   ]
  },
  {
   "cell_type": "markdown",
   "metadata": {},
   "source": [
    "## Exercise 1\n",
    "Compute the texture of the differential phase (function `cpol_helper.texture`) and use it to identify and remove the noise, like we did with the signal_to_noise_ratio."
   ]
  },
  {
   "cell_type": "code",
   "execution_count": null,
   "metadata": {},
   "outputs": [],
   "source": [
    "# You can always find help in: cpol_helper.texture?"
   ]
  },
  {
   "cell_type": "code",
   "execution_count": null,
   "metadata": {},
   "outputs": [],
   "source": [
    "# Uncomment for solution.\n",
    "# %load cpol_exercise_1.py"
   ]
  },
  {
   "cell_type": "code",
   "execution_count": null,
   "metadata": {},
   "outputs": [],
   "source": [
    "gf = pyart.correct.despeckle_field(radar, 'reflectivity', gatefilter=gf)"
   ]
  },
  {
   "cell_type": "code",
   "execution_count": null,
   "metadata": {},
   "outputs": [],
   "source": [
    "# Let's see how the different fields look like without the noise.\n",
    "fig, ax = plt.subplots(3, 2, figsize=(12, 15))\n",
    "ax = ax.ravel()\n",
    "\n",
    "display.plot_ppi('reflectivity', ax=ax[0], sweep=0, gatefilter=gf, cmap='pyart_NWSRef')\n",
    "display.plot_ppi('differential_reflectivity', ax=ax[1], sweep=0, gatefilter=gf)\n",
    "display.plot_ppi('velocity', ax=ax[2], sweep=0, cmap='pyart_NWSVel', vmin=-13.3, vmax=13.3, gatefilter=gf)\n",
    "display.plot_ppi('spectrum_width', ax=ax[3], sweep=0, gatefilter=gf)\n",
    "display.plot_ppi('differential_phase', ax=ax[4], sweep=0, gatefilter=gf)\n",
    "display.plot_ppi('cross_correlation_ratio', ax=ax[5], sweep=0, vmin=0.5, vmax=1.05, gatefilter=gf)\n",
    "\n",
    "for myax in ax:\n",
    "    display.plot_range_rings([50, 100, 150], ax=myax)\n",
    "    myax.set_aspect(1)  # I like my axes square.\n",
    "    myax.set_xlim(-150, 150)\n",
    "    myax.set_ylim(-150, 150)\n",
    "    \n",
    "fig.tight_layout()\n",
    "plt.show()"
   ]
  },
  {
   "cell_type": "markdown",
   "metadata": {},
   "source": [
    "# Correct the effects of the attenuation"
   ]
  },
  {
   "cell_type": "markdown",
   "metadata": {},
   "source": [
    "To correct from the attenuation we need 2 things: $\\phi_{dp}$ and $K_{dp}$. However, the processing and unfolding of $\\phi_{dp}$ is relatively complicated and take a certain amount of time (Py-ART does it, cf. function `pyart.correct.phase_proc_lp`). Thankfully, this is something that has been done for this file, look for the `corrected_differential_phase` and the `specific_differential_phase`"
   ]
  },
  {
   "cell_type": "code",
   "execution_count": null,
   "metadata": {},
   "outputs": [],
   "source": [
    "fig, ax = plt.subplots(1, 2, figsize=(12, 5))\n",
    "ax = ax.ravel()\n",
    "\n",
    "display.plot_ppi('differential_phase', ax=ax[0], sweep=0, vmin=-360, vmax=360)\n",
    "display.plot_ppi('corrected_differential_phase', ax=ax[1], sweep=0, vmin=-360, vmax=360)\n",
    "\n",
    "for myax in ax:\n",
    "    display.plot_range_rings([50, 100, 150], ax=myax)\n",
    "    myax.set_aspect(1)  # I like my axes square.\n",
    "    myax.set_xlim(-150, 150)\n",
    "    myax.set_ylim(-150, 150)\n",
    "    \n",
    "fig.tight_layout()\n",
    "plt.show()"
   ]
  },
  {
   "cell_type": "code",
   "execution_count": null,
   "metadata": {
    "scrolled": true
   },
   "outputs": [],
   "source": [
    "display.plot_ppi('specific_differential_phase')\n",
    "plt.axes().set_aspect(1)\n",
    "plt.show()"
   ]
  },
  {
   "cell_type": "code",
   "execution_count": null,
   "metadata": {},
   "outputs": [],
   "source": [
    "atten_meta, zh_corr = pyart.correct.calculate_attenuation(radar, 0, ncp_field='cross_correlation_ratio')\n",
    "zh_corr['data'] = np.ma.masked_where(gf.gate_excluded, zh_corr['data'])\n",
    "radar.add_field('specific_attenuation_zh', atten_meta)\n",
    "radar.add_field('corrected_reflectivity', zh_corr)"
   ]
  },
  {
   "cell_type": "code",
   "execution_count": null,
   "metadata": {},
   "outputs": [],
   "source": [
    "fig, ax = plt.subplots(1, 2, figsize=(12, 5))\n",
    "ax = ax.ravel()\n",
    "\n",
    "display.plot_ppi('reflectivity', ax=ax[0], sweep=0, cmap='pyart_NWSRef')\n",
    "display.plot_ppi('corrected_reflectivity', ax=ax[1], sweep=0, cmap='pyart_NWSRef')\n",
    "\n",
    "for myax in ax:\n",
    "    display.plot_range_rings([50, 100, 150], ax=myax)\n",
    "    myax.set_aspect(1)  # I like my axes square.\n",
    "    myax.set_xlim(-150, 150)\n",
    "    myax.set_ylim(-150, 150)\n",
    "    \n",
    "fig.tight_layout()\n",
    "plt.show()"
   ]
  },
  {
   "cell_type": "markdown",
   "metadata": {},
   "source": [
    "## Exercise 2\n",
    "\n",
    "Correct the differential reflectivity field from the attenuation. \n",
    "\n",
    "The attenuation on $Z_{dr}$ is defined as (cf. [Bringi et al. 2001](https://ieeexplore-ieee-org.ezproxy.lib.monash.edu.au/abstract/document/951081) ):\n",
    "\n",
    "$$ A(r, \\theta) = \\alpha \\int_0^R K_{dp}(r, \\theta) dr, $$\n",
    "where $\\alpha= 0.016$, and\n",
    "$$ Z_{dr, corrected} = Z_{dr} + A(r, \\theta)$$"
   ]
  },
  {
   "cell_type": "code",
   "execution_count": null,
   "metadata": {},
   "outputs": [],
   "source": [
    "# Uncomment for solution\n",
    "# %load cpol_exercise_2.py"
   ]
  },
  {
   "cell_type": "code",
   "execution_count": null,
   "metadata": {},
   "outputs": [],
   "source": [
    "fig, ax = plt.subplots(1, 2, figsize=(12, 5))\n",
    "ax = ax.ravel()\n",
    "\n",
    "display.plot_ppi('differential_reflectivity', ax=ax[0], sweep=0)\n",
    "display.plot_ppi('corrected_differential_reflectivity', ax=ax[1], sweep=0, gatefilter=gf)\n",
    "\n",
    "for myax in ax:\n",
    "    display.plot_range_rings([50, 100, 150], ax=myax)\n",
    "    myax.set_aspect(1)  # I like my axes square.\n",
    "    myax.set_xlim(-150, 150)\n",
    "    myax.set_ylim(-150, 150)\n",
    "    \n",
    "fig.tight_layout()\n",
    "plt.show()"
   ]
  },
  {
   "cell_type": "markdown",
   "metadata": {},
   "source": [
    "# Dealias velocity."
   ]
  },
  {
   "cell_type": "code",
   "execution_count": null,
   "metadata": {},
   "outputs": [],
   "source": [
    "vdop_vel = pyart.correct.dealias_region_based(radar, vel_field='velocity', gatefilter=gf, nyquist_vel=13.3)\n",
    "vdop_vel['units'] = 'm/s'"
   ]
  },
  {
   "cell_type": "code",
   "execution_count": null,
   "metadata": {},
   "outputs": [],
   "source": [
    "radar.add_field('corrected_velocity', vdop_vel, replace_existing=True)"
   ]
  },
  {
   "cell_type": "code",
   "execution_count": null,
   "metadata": {},
   "outputs": [],
   "source": [
    "fig, ax = plt.subplots(1, 2, figsize=(12, 5))\n",
    "ax = ax.ravel()\n",
    "\n",
    "display.plot_ppi('velocity', ax=ax[0], sweep=0, cmap='pyart_NWSVel', gatefilter=gf, vmin=-26, vmax=26)\n",
    "display.plot_ppi('corrected_velocity', ax=ax[1], sweep=0, cmap='pyart_NWSVel', vmin=-26, vmax=26)\n",
    "\n",
    "for myax in ax:\n",
    "    display.plot_range_rings([50, 100, 150], ax=myax)\n",
    "    myax.set_aspect(1)  # I like my axes square.\n",
    "    myax.set_xlim(-150, 150)\n",
    "    myax.set_ylim(-150, 150)\n",
    "    \n",
    "fig.tight_layout()\n",
    "plt.show()"
   ]
  },
  {
   "cell_type": "markdown",
   "metadata": {},
   "source": [
    "# Exercise 3\n",
    "\n",
    "Plot the corrected velocity field for all elevations and check if it has been properly corrected."
   ]
  },
  {
   "cell_type": "code",
   "execution_count": null,
   "metadata": {},
   "outputs": [],
   "source": [
    "# Uncomment for solution\n",
    "# %load cpol_exercise_3.py"
   ]
  }
 ],
 "metadata": {
  "kernelspec": {
   "display_name": "Python [conda env:radar]",
   "language": "python",
   "name": "conda-env-radar-py"
  },
  "language_info": {
   "codemirror_mode": {
    "name": "ipython",
    "version": 3
   },
   "file_extension": ".py",
   "mimetype": "text/x-python",
   "name": "python",
   "nbconvert_exporter": "python",
   "pygments_lexer": "ipython3",
   "version": "3.6.6"
  }
 },
 "nbformat": 4,
 "nbformat_minor": 2
}
