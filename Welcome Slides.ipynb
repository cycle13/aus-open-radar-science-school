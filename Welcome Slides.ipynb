{
 "cells": [
  {
   "cell_type": "markdown",
   "metadata": {
    "slideshow": {
     "slide_type": "slide"
    }
   },
   "source": [
    "## Welcome to the first Australian Open Radar Science School\n",
    "![alt text](https://upload.wikimedia.org/wikipedia/commons/thumb/c/c7/121212_2_OpenSwissKnife.png/640px-121212_2_OpenSwissKnife.png \"Logo Title Text 1\")\n",
    "\n",
    "\n",
    "Scott Collis, Joshua Soderholm, Valentin Louf, Robert Jackson.\n"
   ]
  },
  {
   "cell_type": "markdown",
   "metadata": {
    "slideshow": {
     "slide_type": "slide"
    }
   },
   "source": [
    "## Aims\n",
    "\n",
    "- Introduce you to the concept of open source, community code and open science\n",
    "- Introduce you to the scientific Python stack\n",
    "- Introduce Py-ART and give an overview of how to use it\n",
    "- Highlight Open Australian Radar data and teach some dual pol radar science\n",
    "- Highlight the open CPOL data set and give an overview\n",
    "- Put you all on the on-ramp to the open science world!"
   ]
  },
  {
   "cell_type": "markdown",
   "metadata": {
    "slideshow": {
     "slide_type": "slide"
    }
   },
   "source": [
    "## Before we begin\n",
    "\n",
    "- There will be issues\n",
    "- Some of you will have technical problems running the notebooks\n",
    "- If this happens we will work to get you up and running\n",
    "- You may need to work in pairs etc.. "
   ]
  },
  {
   "cell_type": "markdown",
   "metadata": {
    "slideshow": {
     "slide_type": "slide"
    }
   },
   "source": [
    "![alt text](scipyeco.png \"Logo Title Text 1\")"
   ]
  },
  {
   "cell_type": "markdown",
   "metadata": {
    "slideshow": {
     "slide_type": "slide"
    }
   },
   "source": [
    "## This group"
   ]
  },
  {
   "cell_type": "markdown",
   "metadata": {
    "slideshow": {
     "slide_type": "fragment"
    }
   },
   "source": [
    "![alt text](lang.png)"
   ]
  },
  {
   "cell_type": "markdown",
   "metadata": {
    "slideshow": {
     "slide_type": "slide"
    }
   },
   "source": [
    "## This group"
   ]
  },
  {
   "cell_type": "markdown",
   "metadata": {
    "slideshow": {
     "slide_type": "fragment"
    }
   },
   "source": [
    "![text](rknow.png)"
   ]
  },
  {
   "cell_type": "markdown",
   "metadata": {
    "slideshow": {
     "slide_type": "slide"
    }
   },
   "source": [
    "## Open Source Software"
   ]
  },
  {
   "cell_type": "markdown",
   "metadata": {
    "slideshow": {
     "slide_type": "fragment"
    }
   },
   "source": [
    "- Open Source Software (OSS) makes the source code available thus allowing users and developers to see how the code works.\n",
    "- Most (not all) OSS will come with a licence which covers the condition of reuse. These vary from restrictive to permissive. **Some licences are incompatible**."
   ]
  },
  {
   "cell_type": "markdown",
   "metadata": {
    "slideshow": {
     "slide_type": "fragment"
    }
   },
   "source": [
    "- Making code OSS and not making it available and/or useful is kinda useless. To allow others to use code:\n",
    "  * Make available on popular code sharing sites. The clear king in GitHub (alternatives exist).\n",
    "  * Write documented and self documenting code. Self documenting includes such practices as clear variable names.\n",
    "  * Use version control. Preferably a distributed version control system such as Git.\n",
    "  * **These steps are much easier than you think! Plenty of online resources**"
   ]
  },
  {
   "cell_type": "markdown",
   "metadata": {
    "slideshow": {
     "slide_type": "slide"
    }
   },
   "source": [
    "## Community Open Source Code"
   ]
  },
  {
   "cell_type": "markdown",
   "metadata": {
    "slideshow": {
     "slide_type": "fragment"
    }
   },
   "source": [
    "- Community code is a subset of OSS code that is made available with the specific intent of attracting contributions from the community. "
   ]
  },
  {
   "cell_type": "markdown",
   "metadata": {
    "slideshow": {
     "slide_type": "fragment"
    }
   },
   "source": [
    "- This can be as simple as stating that contributions are welcome but sustainability can be greatly enhanced by:\n",
    "   * Having a contributors guide.\n",
    "   * A roadmap that highlights desired contributions.\n",
    "   * Unit testing and continious integration that runs when contributions are proposed.\n",
    "   * Good modular software engineering practices.\n",
    "   * Large projects require governance structures (Group or BDFL).  "
   ]
  },
  {
   "cell_type": "markdown",
   "metadata": {
    "slideshow": {
     "slide_type": "slide"
    }
   },
   "source": [
    "## The Open Radar Partnership"
   ]
  },
  {
   "cell_type": "markdown",
   "metadata": {
    "slideshow": {
     "slide_type": "fragment"
    }
   },
   "source": [
    "- This course will be based on Py-ART and Py-ART related packages. "
   ]
  },
  {
   "cell_type": "markdown",
   "metadata": {
    "slideshow": {
     "slide_type": "fragment"
    }
   },
   "source": [
    "- There are several other great open source packages including wradlib, L-ROSE and Baltrad."
   ]
  },
  {
   "cell_type": "markdown",
   "metadata": {
    "slideshow": {
     "slide_type": "fragment"
    }
   },
   "source": [
    "- in 2014 we ran the first open source radar course specifically aimed at demonstrating intercompatibility between our packages.\n",
    "- This course is another in the series. "
   ]
  },
  {
   "cell_type": "markdown",
   "metadata": {
    "slideshow": {
     "slide_type": "fragment"
    }
   },
   "source": [
    "### https://openradarscience.org/"
   ]
  },
  {
   "cell_type": "markdown",
   "metadata": {
    "slideshow": {
     "slide_type": "slide"
    }
   },
   "source": [
    "## Today!\n",
    "\n",
    "* 9:30 to 9:40 Settling, powering up laptops etc.\n",
    "* 9:40 to 10:00 Open Radar Science, Py-ART and this course - Scott Collis\n",
    "* 10:00 to 10:20 An introduction to Jupyter and Jupyter Notebooks - Robert Jackson\n",
    "* 10:20 to 10:40 An introduction to Python - Robert Jackson\n",
    "* 10:40 to 11:00 Break\n",
    "* 11:00 to 11:20 An Introduction to the Scientific Python Stack - Robert Jackson\n",
    "* 11:20 to 11:40 Matplotlib and Cartopy - Robert Jackson\n",
    "* 11:40 to 12:00 Reading and plotting files using Py-ART - Scott Collis\n",
    "* 12:00 to 12:30 A look under the hood: Py-ART's data model - Scott Collis\n",
    "* 12:30 to 1:30 Lunch\n",
    "* 1:30 to 2:00 Obtaining, reading and displaying Australian Radar Data - Joshua Soderholm\n",
    "* 2:00 to 3:00 Dual polarimetric science by example, Aussie dual pol data - Joshua Soderholm\n",
    "* 3:00 to 3:30 Break\n",
    "* 3:30 to 4:30 Radar Processing by example, the CPOL data set - Valentin Louf\n",
    "* 4:30 to 5:00 Open questions and ad-hoc demos"
   ]
  },
  {
   "cell_type": "code",
   "execution_count": null,
   "metadata": {},
   "outputs": [],
   "source": []
  }
 ],
 "metadata": {
  "celltoolbar": "Slideshow",
  "kernelspec": {
   "display_name": "Python 3",
   "language": "python",
   "name": "python3"
  },
  "language_info": {
   "codemirror_mode": {
    "name": "ipython",
    "version": 3
   },
   "file_extension": ".py",
   "mimetype": "text/x-python",
   "name": "python",
   "nbconvert_exporter": "python",
   "pygments_lexer": "ipython3",
   "version": "3.6.6"
  }
 },
 "nbformat": 4,
 "nbformat_minor": 2
}
