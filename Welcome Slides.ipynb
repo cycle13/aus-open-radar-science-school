{
 "cells": [
  {
   "cell_type": "markdown",
   "metadata": {
    "slideshow": {
     "slide_type": "slide"
    }
   },
   "source": [
    "## Welcome to the first Australian Open Radar Science School\n",
    "![alt text](https://upload.wikimedia.org/wikipedia/commons/thumb/c/c7/121212_2_OpenSwissKnife.png/640px-121212_2_OpenSwissKnife.png \"Logo Title Text 1\")\n",
    "\n",
    "\n",
    "Scott Collis, Joshua Soderholm, Valentin Louf, Robert Jackson.\n"
   ]
  },
  {
   "cell_type": "markdown",
   "metadata": {
    "slideshow": {
     "slide_type": "slide"
    }
   },
   "source": [
    "## Aims\n",
    "\n",
    "- Introduce you to the concept of open source, community code and open science\n",
    "- Introduce you to the scientific Python stack\n",
    "- Introduce Py-ART and give an overview of how to use it\n",
    "- Highlight Open Australian Radar data and teach some dual pol radar science\n",
    "- Highlight the open CPOL data set and give an overview\n",
    "- Put you all on the on-ramp to the open science world!"
   ]
  },
  {
   "cell_type": "markdown",
   "metadata": {
    "slideshow": {
     "slide_type": "slide"
    }
   },
   "source": [
    "## Before we begin\n",
    "\n",
    "- There will be issues\n",
    "- Some of you will have technical problems running the notebooks\n",
    "- If this happens we will work to get you up and running\n",
    "- You may need to work in pairs etc.. "
   ]
  },
  {
   "cell_type": "markdown",
   "metadata": {
    "slideshow": {
     "slide_type": "slide"
    }
   },
   "source": [
    "![alt text](scipyeco.png \"Logo Title Text 1\")"
   ]
  },
  {
   "cell_type": "markdown",
   "metadata": {
    "slideshow": {
     "slide_type": "slide"
    }
   },
   "source": [
    "## This group"
   ]
  },
  {
   "cell_type": "markdown",
   "metadata": {
    "slideshow": {
     "slide_type": "fragment"
    }
   },
   "source": [
    "![alt text](lang.png)"
   ]
  },
  {
   "cell_type": "markdown",
   "metadata": {
    "slideshow": {
     "slide_type": "slide"
    }
   },
   "source": [
    "## This group"
   ]
  },
  {
   "cell_type": "markdown",
   "metadata": {
    "slideshow": {
     "slide_type": "fragment"
    }
   },
   "source": [
    "![text](rknow.png)"
   ]
  },
  {
   "cell_type": "markdown",
   "metadata": {
    "slideshow": {
     "slide_type": "slide"
    }
   },
   "source": [
    "## Open Source Software"
   ]
  },
  {
   "cell_type": "markdown",
   "metadata": {
    "slideshow": {
     "slide_type": "fragment"
    }
   },
   "source": [
    "- Open Source Software (OSS) makes the source code available thus allowing users and developers to see how the code works.\n",
    "- Most (not all) OSS will come with a licence which covers the condition of reuse. These vary from restrictive to permissive. **Some licences are incompatible**."
   ]
  },
  {
   "cell_type": "markdown",
   "metadata": {
    "slideshow": {
     "slide_type": "fragment"
    }
   },
   "source": [
    "- Making code OSS and not making it available and/or useful is kinda useless. To allow others to use code:\n",
    "  * Make available on popular code sharing sites. The clear king in GitHub (alternatives exist).\n",
    "  * Write documented and self documenting code. Self documenting includes such practices as clear variable names.\n",
    "  * Use version control. Preferably a distributed version control system such as Git.\n",
    "  * **These steps are much easier than you think! Plenty of online resources**"
   ]
  },
  {
   "cell_type": "code",
   "execution_count": null,
   "metadata": {},
   "outputs": [],
   "source": []
  }
 ],
 "metadata": {
  "celltoolbar": "Slideshow",
  "kernelspec": {
   "display_name": "Python 3",
   "language": "python",
   "name": "python3"
  },
  "language_info": {
   "codemirror_mode": {
    "name": "ipython",
    "version": 3
   },
   "file_extension": ".py",
   "mimetype": "text/x-python",
   "name": "python",
   "nbconvert_exporter": "python",
   "pygments_lexer": "ipython3",
   "version": "3.6.6"
  }
 },
 "nbformat": 4,
 "nbformat_minor": 2
}
